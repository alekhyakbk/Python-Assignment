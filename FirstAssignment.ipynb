# explain the key features of Python that take it a popular choice for programming
'''Easy to Code
Open Source programming Language & Free Software
Object-Oriented Methodology
High-Level Language
Highly Portable Language
Extremely Dynamic
Extensive Array of Libraries'''

# Describe the role of predefined keywords in Python and provide examples of how they are used in a program


''' Predefined Keywords are used to define the syntax of the coding.
This Keywords cannot be used as an identifier, function, or variable name. 

Uses
Value Keywords: True, False, None
Operator Keywords: and, or, not, in, is
Control Flow Keywords: if, elif, else
Iteration Keywords: for, while, break, continue, else
Structure Keywords: def, class, with, as, pass, lambda
Returning Keywords: return, yield
Import Keywords: import, from, as
Exception-Handling Keywords: try, except, raise, finally, else, assert
Asynchronous Programming Keywords: async, await
Variable Handling Keywords: del, global, nonlocal '''

# Compare and contrast mutable and immutable objects in Python with examples

''' Mutable object means that can be change or changeable after creation.
    Mutable means the ability to modify or edit a value.
     E.g
     List
     Set
    Dictionary'''

 #List   
list1 = [1, 2, 3, 4]
print(list1)
list1[0]=5
list1    


#Set
Set1={1,2,3,4,5,6}
print(Set1)
Set1.add(7)
print(Set1)



#dictionary
dict={"Dad":12,"Mom":34}
dict["bro"] = "56"
dict

'''Immutable objects in Python defined as objects that do not change their values and attributes over time.
Immutable objects become permanent once created and initialized
E.g
Str
Tuple 
'''

# str
a="Rithvika"
a

# Tuple
Point=(2,3)
Point


'''Discuss the different types of operators in Python and provide examples of how they are used'''

#Equality Operators
# is, is not, ==, |=

a= "abc"
b="abc"
c="cc"
print(a is b)
print(a is not b)
print(a==b)

c=[1,2,3,4]
d=[1,2,3,4]
print(c is d)
print(c is not d)
print(c==d)
print(c != d)
# In list the both c and d has different memory location



#Arthemetic Operator
a=10
b=20
print(a+b)
print(b-a)
print(a*b)
print(b/a)
print(b//a)
print(b%a)


#Comparision Operator
a=10
b=20
print(a<b)
print(a<=b)
print(b>a)
print(b>=a)



#Logical Operator
#OR
print("OR")
print(True or True)
print(True or False)
print(False or True)
print(False or False)
#ADD
print("ADD")
print(True and True)
print(True and False)
print(False and True)
print(False and False)

#XOR
print("XOR")
print(True * True)
print(True * False)
print(False * True)
print(False * False)



#Bitwise Operator

a=10
b=20
print(~a)
print(a&b)
print(a|b)
print(a^b)
print(a<<b)
print(a>>b)


'''Explain the concept of type casting in Python with examples'''


#Python Implicit Type Conversion
a = 7
print(type(a)) 
 
# Python automatically converts 
# b to float 
b = 3.0
print(type(b)) 
 
# Python automatically converts 
# c to float as it is a float addition 
c = a + b 
print(c) 
print(type(c))
 
# Python automatically converts 
# d to float as it is a float multiplication
d = a * b
print(d)
print(type(d))

#Python Explicit Type Conversion

 
# typecast to float
a = 5
n = float(a)
print(n)
print(type(n))

# typecast to int
a = 5.9
n = int(a)
print(n)
print(type(n))


# typecast to str
a = 5
n = str(a)
print(n)
print(type(n))


'''how conditional statement work in python illustrate with examples'''
num = 5
if num > 0:
    print("The number is positive.")
    
    
num1 = -5
if num > 0:
    print("The number is positive.")
else:
    print("The number is negative.")
score = 85

if score >= 90:
    grade = "A"
elif score >= 80:
    grade = "B"
elif score >= 70:
    grade = "C"
elif score >= 60:
    grade = "D"
else:
    grade = "F"

print("Your grade is:", grade)


'''Describe the different types of loops in Python and their use cases with examples'''

#While Loop
count = 0
while (count < 2):
    count = count + 1
    print("Hello PWSkills")
    
#For Loop
n = 4
for i in range(0, n):
    print(i)    
    
#Nested Loop
#from __future__ import print_function
for i in range(1, 5):
    for j in range(i):
        print(i, end=' ')
    print()
