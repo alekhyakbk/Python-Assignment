{
 "cells": [
  {
   "cell_type": "code",
   "execution_count": 1,
   "id": "67da1e2f-2b88-48fe-aa96-e7e66e641254",
   "metadata": {},
   "outputs": [
    {
     "ename": "SyntaxError",
     "evalue": "invalid syntax (1268625228.py, line 4)",
     "output_type": "error",
     "traceback": [
      "\u001b[0;36m  Cell \u001b[0;32mIn[1], line 4\u001b[0;36m\u001b[0m\n\u001b[0;31m    Easy to Code\u001b[0m\n\u001b[0m         ^\u001b[0m\n\u001b[0;31mSyntaxError\u001b[0m\u001b[0;31m:\u001b[0m invalid syntax\n"
     ]
    }
   ],
   "source": [
    "## explain the key features of Python that take it a popular choice for programming\n",
    "\n",
    "##\n",
    "Easy to Code\n",
    "Open Source programming Language & Free Software\n",
    "Object-Oriented Methodology\n",
    "High-Level Language\n",
    "Highly Portable Language\n",
    "Extremely Dynamic\n",
    "Extensive Array of Libraries\n",
    "##"
   ]
  },
  {
   "cell_type": "code",
   "execution_count": null,
   "id": "2f43637d-68e6-4a9b-a047-f7e038436cc5",
   "metadata": {},
   "outputs": [],
   "source": []
  },
  {
   "cell_type": "code",
   "execution_count": null,
   "id": "4ff1f85f-3386-4c0f-8013-6388586a3e11",
   "metadata": {},
   "outputs": [],
   "source": []
  },
  {
   "cell_type": "code",
   "execution_count": null,
   "id": "176577fd-1265-4398-bbc6-f5f846e8864c",
   "metadata": {},
   "outputs": [],
   "source": []
  },
  {
   "cell_type": "code",
   "execution_count": null,
   "id": "30d547df-b2dd-4eb5-a170-36cf54e9a822",
   "metadata": {},
   "outputs": [],
   "source": []
  },
  {
   "cell_type": "code",
   "execution_count": null,
   "id": "abb89d9d-ce7a-4967-8c47-70e283e4502d",
   "metadata": {},
   "outputs": [],
   "source": [
    "## explain the key features of Python that take it a popular choice for programming\n",
    "\n",
    "##\n",
    "Easy to Code\n",
    "Open Source & Free Software\n",
    "Support for GUI\n",
    "Object-Oriented Methodology\n",
    "High-Level Language\n",
    "Highly Portable Language\n",
    "Integrated by nature\n",
    "Extremely Dynamic\n",
    "Extensive Array of Libraries\n",
    "Supportive of Other Languages\n",
    "##"
   ]
  }
 ],
 "metadata": {
  "kernelspec": {
   "display_name": "Python 3 (ipykernel)",
   "language": "python",
   "name": "python3"
  },
  "language_info": {
   "codemirror_mode": {
    "name": "ipython",
    "version": 3
   },
   "file_extension": ".py",
   "mimetype": "text/x-python",
   "name": "python",
   "nbconvert_exporter": "python",
   "pygments_lexer": "ipython3",
   "version": "3.10.8"
  }
 },
 "nbformat": 4,
 "nbformat_minor": 5
}
