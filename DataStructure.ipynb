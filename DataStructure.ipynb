{
 "cells": [
  {
   "cell_type": "code",
   "execution_count": 1,
   "id": "ec9c3f31-b422-4fee-a9df-e2378c12bade",
   "metadata": {},
   "outputs": [
    {
     "name": "stdout",
     "output_type": "stream",
     "text": [
      "hsnayeR\n"
     ]
    }
   ],
   "source": [
    "# 1. Write a code to reverse a string. \n",
    "str= \"Reyansh\"\n",
    "print(str[::-1])"
   ]
  },
  {
   "cell_type": "code",
   "execution_count": 2,
   "id": "25c81cf2-f6bb-4cd5-b463-a9349d5728ae",
   "metadata": {
    "tags": []
   },
   "outputs": [
    {
     "name": "stdout",
     "output_type": "stream",
     "text": [
      "5\n"
     ]
    }
   ],
   "source": [
    "#2. Write a code to count the number of vowels in a string.\n",
    "\n",
    "def countvowels():\n",
    "    countno=0\n",
    "    str=\"Kurmathi Reyansh\"\n",
    "    lst=['a','e','i','o','u']\n",
    "    length = len(lst)\n",
    "    for i in str:\n",
    "        for j in range(length):\n",
    "            if i==lst[j]:\n",
    "                countno=countno+1\n",
    "    return countno            \n",
    "print(countvowels())    "
   ]
  },
  {
   "cell_type": "code",
   "execution_count": 3,
   "id": "ee497fe4-d329-4f23-889d-003fda4ba160",
   "metadata": {},
   "outputs": [
    {
     "name": "stdin",
     "output_type": "stream",
     "text": [
      "Enter the string malayalam\n"
     ]
    },
    {
     "name": "stdout",
     "output_type": "stream",
     "text": [
      "Its a Palindrome string\n"
     ]
    }
   ],
   "source": [
    "#3. Write a code to check if a given string is a palindrome or not. \n",
    "def func1():\n",
    "    str= input(\"Enter the string\")\n",
    "    str1= str[::-1]\n",
    "    if(str==str1):\n",
    "        return \"Its a Palindrome string\"\n",
    "    else:\n",
    "        return \"Its not a palindrome string\"\n",
    "\n",
    "print(func1())"
   ]
  },
  {
   "cell_type": "code",
   "execution_count": 4,
   "id": "9684c914-9489-4087-83db-79434508b8ea",
   "metadata": {},
   "outputs": [
    {
     "name": "stdout",
     "output_type": "stream",
     "text": [
      "Given strings are anagrams\n"
     ]
    }
   ],
   "source": [
    "#4. Write a code to check if two given strings are anagrams of each other.\n",
    "\n",
    "str1=\"listen\"\n",
    "str2=\"silent\"\n",
    "def func():\n",
    "    if(sorted(str1)==sorted(str2)):\n",
    "        return \"Given strings are anagrams\"\n",
    "    else:\n",
    "        return \"Given strings are not anagrams\"\n",
    "\n",
    "print(func())"
   ]
  },
  {
   "cell_type": "code",
   "execution_count": 17,
   "id": "54fcb4b2-b852-4174-8c88-ec5227bb0bca",
   "metadata": {},
   "outputs": [
    {
     "name": "stdin",
     "output_type": "stream",
     "text": [
      "Enter a string: reyansh kurmathi\n",
      "Enter a substring a\n"
     ]
    },
    {
     "name": "stdout",
     "output_type": "stream",
     "text": [
      "3 12 "
     ]
    }
   ],
   "source": [
    "#5. Write a code to find all occurrences of a given substring within another string.\n",
    "string1=input(\"Enter a string:\")\n",
    "substring=input(\"Enter a substring\")\n",
    "flag=False\n",
    "for i in range(len(string1)):\n",
    "    if(string1[i:i+len(substring)]==substring):\n",
    "        print(i,end=\" \")\n",
    "        flag=True\n",
    "if (flag==False):\n",
    "    print(\"The substring is not present in the given string\")\n",
    "    "
   ]
  },
  {
   "cell_type": "code",
   "execution_count": 6,
   "id": "437f2675-83fb-40f5-91e8-5dd43b5a5e11",
   "metadata": {
    "tags": []
   },
   "outputs": [
    {
     "name": "stdout",
     "output_type": "stream",
     "text": [
      "Given string has unique characters\n"
     ]
    }
   ],
   "source": [
    "# 6.Write a code to determine if a string has all unique characters\n",
    "str1=\"reyansha\"\n",
    "str2= sorted(str1)\n",
    "count=1\n",
    "lenght=len(str2)\n",
    "for i in range(lenght-1):\n",
    "    count=1\n",
    "    if(str2[i]==str2[i+1]):\n",
    "        count=count+1        \n",
    "    else:\n",
    "        count=count       \n",
    "if(count==2):\n",
    "    print(\"Given string is not unique\")\n",
    "else:\n",
    "    print(\"Given string has unique characters\")"
   ]
  },
  {
   "cell_type": "code",
   "execution_count": 7,
   "id": "745f9605-974e-4cdd-9caf-40bde9a5e015",
   "metadata": {},
   "outputs": [
    {
     "name": "stdout",
     "output_type": "stream",
     "text": [
      "reyansh\n",
      "REYANSH\n"
     ]
    }
   ],
   "source": [
    "#8. Write a code to convert a given string to uppercase or lowercase. \n",
    "str=\"reYaNsh\"\n",
    "print(str.lower())\n",
    "print(str.upper())"
   ]
  },
  {
   "cell_type": "code",
   "execution_count": 8,
   "id": "be0185a8-b089-48fd-a6a1-4d3b99a2590d",
   "metadata": {},
   "outputs": [
    {
     "name": "stdout",
     "output_type": "stream",
     "text": [
      "Count of Words in the given Sentence: 5\n",
      "Count of Alphabets : 32\n",
      "Find all Alphabets : 32\n"
     ]
    }
   ],
   "source": [
    "#9. Write a code to count the number of words in a string. \n",
    "import re\n",
    "str=\"Welcome to pwskills learning program\"\n",
    "countOfWords = len(str.split())\n",
    "print(\"Count of Words in the given Sentence:\", countOfWords)\n",
    "\n",
    "\n",
    "res = sum(1 for c in str if c.isalpha())\n",
    "print(\"Count of Alphabets : \" + \"{}\".format(res))\n",
    "\n",
    "count = len(re.findall('[a-zA-Z]', str)) # import re to execute this\n",
    "print(\"Find all Alphabets : \" + \"{}\".format(count))"
   ]
  },
  {
   "cell_type": "code",
   "execution_count": 9,
   "id": "b3643681-851c-4bbd-b679-edcdf0169138",
   "metadata": {},
   "outputs": [
    {
     "data": {
      "text/plain": [
       "'Hello World'"
      ]
     },
     "execution_count": 9,
     "metadata": {},
     "output_type": "execute_result"
    }
   ],
   "source": [
    "#10. Write a code to concatenate two strings without using the + operator. \n",
    "string2 = \"%s %s\" %('Hello', 'World')\n",
    "string2\n",
    "string3 = \"{0} {1}\".format(\"Hello\", \"World\")\n",
    "string3"
   ]
  },
  {
   "cell_type": "code",
   "execution_count": 10,
   "id": "1bec5bb9-9633-46e1-8cd3-fa324e785177",
   "metadata": {},
   "outputs": [
    {
     "name": "stdout",
     "output_type": "stream",
     "text": [
      "Before removing [1, 2, 3, 4, 5, 6, 1, 2, 3, 4, 5, 6, 1, 2, 7, 8, 9, 1, 2, 3, 6, 5, 4, 7]\n",
      "After removing 1  [2, 3, 4, 5, 6, 2, 3, 4, 5, 6, 2, 7, 8, 9, 2, 3, 6, 5, 4, 7]\n"
     ]
    }
   ],
   "source": [
    "#11. Write a code to remove all occurrences of a specific element from a list\n",
    "\n",
    "def remove_values_from_list(the_list, val):\n",
    "    return [value for value in the_list if value != val]\n",
    "\n",
    "lst1=[1,2,3,4,5,6,1,2,3,4,5,6,1,2,7,8,9,1,2,3,6,5,4,7]\n",
    "print(\"Before removing\", lst1)\n",
    "removeelement=1\n",
    "removee = remove_values_from_list(lst1, removeelement)\n",
    "print (\"After removing 1 \", removee)"
   ]
  },
  {
   "cell_type": "code",
   "execution_count": 11,
   "id": "8bf52467-3418-4184-8c9c-578a1ed133eb",
   "metadata": {},
   "outputs": [
    {
     "name": "stdout",
     "output_type": "stream",
     "text": [
      "[1, 35, 50, 62, 72, 87, 91]\n",
      "Second Largest Number in list:  87\n"
     ]
    }
   ],
   "source": [
    "#12. Implement a code to find the second largest number in a given list of integers.\n",
    "lst1=[1,50,91,72,87,62,35]\n",
    "lst2=sorted(lst1)\n",
    "length= len(lst2)\n",
    "print(lst2)\n",
    "print(\"Second Largest Number in list: \", lst2[length-2])"
   ]
  },
  {
   "cell_type": "code",
   "execution_count": 12,
   "id": "263516a1-e684-46d2-84b4-c71820eb7b77",
   "metadata": {},
   "outputs": [
    {
     "name": "stdout",
     "output_type": "stream",
     "text": [
      "[1, 1, 1, 1, 2, 2, 2, 2, 3, 3, 3, 4, 4, 4, 5, 5, 5, 6, 6, 6, 7, 7, 8, 9]\n",
      "{1: 4, 2: 4, 3: 3, 4: 3, 5: 3, 6: 3, 7: 2}\n"
     ]
    }
   ],
   "source": [
    "#13. Create a code to count the occurrences of each element in a list and return a dictionary with elements as keys and their counts as values.\n",
    "lst1=[1,2,3,4,5,6,1,2,3,4,5,6,1,2,7,8,9,1,2,3,6,5,4,7]\n",
    "lst2=sorted(lst1)\n",
    "print(lst2)\n",
    "dict={}\n",
    "count=1\n",
    "for i in range(len(lst2)-3):\n",
    "    if(lst2[i]==lst2[i+1]):\n",
    "        count=count+1\n",
    "    else:\n",
    "        count=1\n",
    "        continue\n",
    "    dict[lst2[i]]=count  \n",
    "print(dict)"
   ]
  },
  {
   "cell_type": "code",
   "execution_count": 13,
   "id": "f1b5ef0a-fd28-4eb6-9c25-7cdacd93d708",
   "metadata": {},
   "outputs": [
    {
     "name": "stdout",
     "output_type": "stream",
     "text": [
      "[4, 3, 2, 1]\n"
     ]
    }
   ],
   "source": [
    "#14. Write a code to reverse a list in-place without using any built-in reverse functions. \n",
    "def reversefunc(l):\n",
    "    r = []\n",
    "    for i in l:\n",
    "        r.insert(0, i)\n",
    "    return r\n",
    "lst1=[1, 2, 3, 4]\n",
    "print(reversefunc(lst1))"
   ]
  },
  {
   "cell_type": "code",
   "execution_count": 14,
   "id": "ff86c92b-5eb2-43d1-8970-aa5d7b5cad0c",
   "metadata": {},
   "outputs": [
    {
     "name": "stdout",
     "output_type": "stream",
     "text": [
      "[1, 2, 3, 4, 5, 6, 7, 8]\n"
     ]
    }
   ],
   "source": [
    "#15. Implement a code to find and remove duplicates from a list while preserving the original order of elements. \n",
    "lst=[1, 2, 3, 4, 1, 5, 6, 2, 4, 7, 8]\n",
    "print(list(set(lst)))"
   ]
  },
  {
   "cell_type": "code",
   "execution_count": 15,
   "id": "9e02aafd-ea7b-41fe-90a1-eca21f7f3e33",
   "metadata": {},
   "outputs": [
    {
     "name": "stdout",
     "output_type": "stream",
     "text": [
      "True\n"
     ]
    }
   ],
   "source": [
    "#16. Create a code to check if a given list is sorted (either in ascending or descending order) or not \n",
    "\n",
    "listtimestamps = [1, 5, 3, 5, 6, 7]\n",
    "lst=[9, 8, 7, 6]\n",
    "\n",
    "def is_sorted(lst):\n",
    "    return all(lst[i] <= lst[i+1] for i in range(len(lst)-1)) or all(lst[i] >= lst[i+1] for i in range(len(lst)-1))\n",
    "\n",
    "print(is_sorted(lst))  "
   ]
  },
  {
   "cell_type": "code",
   "execution_count": 30,
   "id": "ac4af44f-51bd-4d47-a866-3aa8287da79e",
   "metadata": {},
   "outputs": [
    {
     "name": "stdout",
     "output_type": "stream",
     "text": [
      "[1, 2, 3, 5, 11]\n",
      "[1, 3, 7, 9, 10]\n",
      "[1, 1, 2, 3, 3, 5, 7, 9, 10, 11]\n"
     ]
    }
   ],
   "source": [
    "#17. Write a code to merge two sorted lists into a single sorted list. \n",
    "\n",
    "test_list1 = [1, 5, 2, 3, 11]\n",
    "test_list2 = [3, 9, 7, 1, 10]\n",
    "test_list1.sort()\n",
    "test_list2.sort()\n",
    "print (test_list1)\n",
    "print (test_list2)\n",
    "res = sorted(test_list1 + test_list2)\n",
    " \n",
    "# printing result\n",
    "print ((res))"
   ]
  },
  {
   "cell_type": "code",
   "execution_count": 23,
   "id": "06f41883-e74b-4c6e-be77-4fb9b6d6fba0",
   "metadata": {},
   "outputs": [
    {
     "name": "stdout",
     "output_type": "stream",
     "text": [
      "[9, 11, 26, 28]\n"
     ]
    }
   ],
   "source": [
    "#18. Implement a code to find the intersection of two given lists. \n",
    "def intersection(lst1, lst2):\n",
    "    lst3 = [val for val in lst1 if val in lst2]\n",
    "    return lst3\n",
    " \n",
    "lst1 = [4, 9, 1, 17, 11, 26, 28, 54, 69]\n",
    "lst2 = [9, 9, 74, 21, 45, 11, 63, 28, 26]\n",
    "print(intersection(lst1, lst2))\n"
   ]
  },
  {
   "cell_type": "code",
   "execution_count": 31,
   "id": "61290a69-0f9d-45e7-8218-a3ae4a00f77d",
   "metadata": {},
   "outputs": [
    {
     "name": "stdout",
     "output_type": "stream",
     "text": [
      "[1, 4, 9, 11, 17, 21, 26, 28, 45, 54, 63, 69, 74]\n"
     ]
    }
   ],
   "source": [
    "#19. Create a code to find the union of two lists without duplicates. \n",
    "lst1 = [4, 9, 1, 17, 11, 26, 28, 54, 69]\n",
    "lst2 = [9, 9, 74, 21, 45, 11, 63, 28, 26]\n",
    "lst3=set(lst1+lst2)\n",
    "\n",
    "print(sorted(lst3))"
   ]
  },
  {
   "cell_type": "code",
   "execution_count": 32,
   "id": "6c5ac459-1ecf-4aea-8369-c9b2341a4eaf",
   "metadata": {},
   "outputs": [
    {
     "name": "stdout",
     "output_type": "stream",
     "text": [
      "The original list is:  [15, 12, 48, 19, 63]\n",
      "The shuffled list is:  [12, 15, 19, 63, 48]\n"
     ]
    }
   ],
   "source": [
    "#20. Write a code to shuffle a given list randomly without using any built-in shuffle functions. \n",
    "\n",
    "import random\n",
    "lis1 = [15,12,48,19,63]\n",
    "print(\"The original list is: \",lis1)\n",
    "lis2 = random.sample(lis1,len(lis1))\n",
    "print(\"The shuffled list is: \",lis2)"
   ]
  },
  {
   "cell_type": "code",
   "execution_count": 33,
   "id": "5a686f9c-1c2a-4b39-b4d6-5ffc77634ef4",
   "metadata": {},
   "outputs": [
    {
     "name": "stdout",
     "output_type": "stream",
     "text": [
      "('B', 'C', 'D')\n"
     ]
    }
   ],
   "source": [
    "#21. Write a code that takes two tuples as input and returns a new tuple containing elements that are common to both input tuples.\n",
    "tuple1=(\"A\",\"B\", \"C\", \"D\", \"E\")\n",
    "tuple2=(\"B\", \"C\", \"D\")\n",
    "tuple3=()\n",
    "for i in range(len(tuple1)):\n",
    "    for j in range(len(tuple2)):\n",
    "        if(tuple1[i]==tuple2[j]):\n",
    "            tuple3 += (tuple1[i],)\n",
    "        else:\n",
    "            continue      \n",
    "print(tuple3)\n"
   ]
  },
  {
   "cell_type": "code",
   "execution_count": 34,
   "id": "dc52b096-9906-49f6-a944-922c99d1629c",
   "metadata": {},
   "outputs": [
    {
     "name": "stdin",
     "output_type": "stream",
     "text": [
      "enter the values of set 1 with comas a,b,c,d,e,f\n"
     ]
    },
    {
     "name": "stdout",
     "output_type": "stream",
     "text": [
      "['a', 'b', 'c', 'd', 'e', 'f']\n"
     ]
    },
    {
     "name": "stdin",
     "output_type": "stream",
     "text": [
      "enter the values of set 2 with comas d,e,f,g,h,j\n"
     ]
    },
    {
     "name": "stdout",
     "output_type": "stream",
     "text": [
      "['d', 'e', 'f', 'g', 'h', 'j']\n",
      "Values after intersection of these two sets:  {'e', 'f', 'd'}\n"
     ]
    }
   ],
   "source": [
    "#22. Create a code that prompts the user to enter two sets of integers separated by commas. Then, print the intersection of these two sets. \n",
    "set1= input(\"enter the values of set 1 with comas\")\n",
    "values_list1 = set1.split(',') \n",
    "print(values_list1) \n",
    "set2= input(\"enter the values of set 2 with comas\")\n",
    "values_list2 = set2.split(',') \n",
    "print(values_list2)\n",
    "print(\"Values after intersection of these two sets: \", set(values_list1).intersection(set(values_list2)))\n"
   ]
  },
  {
   "cell_type": "code",
   "execution_count": 35,
   "id": "22951258-3f7d-408a-887c-ecf6f26060b1",
   "metadata": {},
   "outputs": [
    {
     "name": "stdin",
     "output_type": "stream",
     "text": [
      "enter tuple1 12345\n"
     ]
    },
    {
     "name": "stdout",
     "output_type": "stream",
     "text": [
      "('1', '2', '3', '4', '5')\n"
     ]
    },
    {
     "name": "stdin",
     "output_type": "stream",
     "text": [
      "enter tuple2 678\n"
     ]
    },
    {
     "name": "stdout",
     "output_type": "stream",
     "text": [
      "('6', '7', '8')\n",
      "tuple elements of 2 tuples : ('1', '2', '3', '4', '5', '6', '7', '8')\n"
     ]
    }
   ],
   "source": [
    "#23. Write a code to concatenate two tuples. The function should take two tuples as input and return a new tuple containing elements from both input tuples.\n",
    "tup1 = tuple(input(\"enter tuple1\"))\n",
    "print(tup1)  \n",
    "tup2 = tuple(input(\"enter tuple2\"))\n",
    "print(tup2)\n",
    "tup3=tup1+tup2\n",
    "print(\"tuple elements of 2 tuples :\", tup3)      "
   ]
  },
  {
   "cell_type": "code",
   "execution_count": 36,
   "id": "0045a995-6fd9-4cca-af1b-d92655a144ec",
   "metadata": {},
   "outputs": [
    {
     "name": "stdin",
     "output_type": "stream",
     "text": [
      "enter the values of set 1 with comas a,b,c,d,e,f,g,h\n"
     ]
    },
    {
     "name": "stdout",
     "output_type": "stream",
     "text": [
      "['a', 'b', 'c', 'd', 'e', 'f', 'g', 'h']\n"
     ]
    },
    {
     "name": "stdin",
     "output_type": "stream",
     "text": [
      "enter the values of set 2 with comas e,f,h,i,j,k\n"
     ]
    },
    {
     "name": "stdout",
     "output_type": "stream",
     "text": [
      "['e', 'f', 'h', 'i', 'j', 'k']\n",
      "Elements in set1 but not in the set2.:  ['a', 'b', 'c', 'd', 'g']\n"
     ]
    }
   ],
   "source": [
    "#24. Develop a code that prompts the user to input two sets of strings. Then, print the elements that are present in the first set but not in the second set.\n",
    "set1= input(\"enter the values of set 1 with comas\")\n",
    "values_list1 = set1.split(',') \n",
    "print(values_list1) \n",
    "set2= input(\"enter the values of set 2 with comas\")\n",
    "values_list2 = set2.split(',') \n",
    "print(values_list2)\n",
    "s = set(values_list2)\n",
    "temp3 = [x for x in values_list1 if x not in s]\n",
    "#print(temp3)\n",
    "print(\"Elements in set1 but not in the set2.: \", temp3)\n"
   ]
  },
  {
   "cell_type": "code",
   "execution_count": 37,
   "id": "3082d889-aa86-4bd1-8363-1ec3997a72f6",
   "metadata": {},
   "outputs": [
    {
     "name": "stdin",
     "output_type": "stream",
     "text": [
      "enter the values of se1 asdfg\n",
      "enter values of set2 hnjku\n"
     ]
    },
    {
     "name": "stdout",
     "output_type": "stream",
     "text": [
      "union of set1 and set2 ['asdfg', 'hnjku']\n"
     ]
    }
   ],
   "source": [
    "#26. Write a code that prompts the user to input two sets of characters. Then, print the union of these two sets. \n",
    "set1= input(\"enter the values of se1\")\n",
    "values1=set1.split(',')\n",
    "set2= input(\"enter values of set2\")\n",
    "values2=set2.split(',')\n",
    "set3= values1 +values2\n",
    "print(\"union of set1 and set2\", set3)"
   ]
  },
  {
   "cell_type": "code",
   "execution_count": 49,
   "id": "1af0fdae-8edd-4fc6-88d1-9f319d50c98a",
   "metadata": {},
   "outputs": [
    {
     "name": "stdin",
     "output_type": "stream",
     "text": [
      "Enter the tuple 1,2,8,9,5,6\n"
     ]
    },
    {
     "name": "stdout",
     "output_type": "stream",
     "text": [
      "max value is 9 and min value is 1\n"
     ]
    }
   ],
   "source": [
    "#27. Develop a code that takes a tuple of integers as input. The function should return the maximum and minimum values from the tuple using tuple unpacking. \n",
    "input_str=input(\"Enter the tuple\")\n",
    "tuple1=tuple(map(int,input_str.strip(\"()\").split(\",\")))\n",
    "print(f\"max value is {max(tuple1)} and min value is {min(tuple1)}\")"
   ]
  },
  {
   "cell_type": "code",
   "execution_count": 54,
   "id": "4c5a280a-ab9a-4538-9b1d-218dd4f9629c",
   "metadata": {},
   "outputs": [
    {
     "name": "stdout",
     "output_type": "stream",
     "text": [
      "{0, 1, 2, 3, 4}\n",
      "{0, 1, 2, 3, 4}\n",
      "{1, 2}\n",
      "{1, 2}\n",
      "{2}\n",
      "union is {0, 1, 2, 3}\n",
      "intersection is {1, 2}\n",
      "difference of sets is {0, 1}\n"
     ]
    }
   ],
   "source": [
    "#28. Create a code that defines two sets of integers. Then, print the union, Intersection, and difference of those two sets. \n",
    "s1 = {0, 1, 2}\n",
    "s2 = {1, 2, 3}\n",
    "s3 = {2, 3, 4}\n",
    "\n",
    "#Union\n",
    "print(s1 | s2 | s3)\n",
    "print(s1.union(s2,s3))\n",
    "\n",
    "#Intersection\n",
    "print(s1 & s2)\n",
    "print(s1.intersection(s2))\n",
    "print(s1.intersection(s2, s3))\n",
    "\n",
    "print(f\"union is {s1.union(s2)}\\nintersection is {s1.intersection(s2)}\\ndifference of sets is {s1.difference(s3)}\")\n",
    "\n",
    "#print(f\"union is {set1.union(set2)}\\nintersection is {set1.intersection(set2)}\\ndifference of sets is {set1.difference(set2)}\")"
   ]
  },
  {
   "cell_type": "code",
   "execution_count": 55,
   "id": "d35f6508-fbd5-4d1f-9691-0301fda4e19d",
   "metadata": {},
   "outputs": [
    {
     "name": "stdout",
     "output_type": "stream",
     "text": [
      "2 times\n"
     ]
    }
   ],
   "source": [
    "#29. Write a code that takes a tuple and an element as input. The function should return the count of occurrences of the given element in the tuple.\n",
    "def Count(tup, en):\n",
    "    return tup.count(en)\n",
    " \n",
    "tup = (10, 8, 5, 2, 4, 10, 15, 10, 4, 8, 5, 8, 8, 2)\n",
    "element = 4\n",
    "print(Count(tup, element), \"times\")"
   ]
  },
  {
   "cell_type": "code",
   "execution_count": null,
   "id": "7c437043-6bd7-4a92-b813-bf47ef8751fa",
   "metadata": {
    "tags": []
   },
   "outputs": [],
   "source": [
    "#30. Develop a code that prompts the user to input two sets of strings. Then, print the symmetric difference of these two sets.\n",
    "input1=input(\"Enter th first set\")\n",
    "set1=set(map(str,input1.strip(\"{}\").split(\",\")))\n",
    "input2=input(\"Enter th second set\")\n",
    "set2=set(map(str,input2.strip(\"{}\").split(\",\")))\n",
    "\n",
    "print(f\"symmetric difference is {set1.symmetric_difference(set2)}\")"
   ]
  },
  {
   "cell_type": "code",
   "execution_count": null,
   "id": "9c4b26d0-b452-4467-8568-bcf923414b2f",
   "metadata": {
    "tags": []
   },
   "outputs": [],
   "source": [
    "#31. Write a code that takes a list of words as input and returns a dictionary where the keys are unique words and the values are the frequencies of those words in the input list. \n",
    "input1=input(\"Enter the list\")\n",
    "list1=list(map(str,input1.strip(\"[]\").split(\",\")))\n",
    "dict1={}\n",
    "for i in list1:\n",
    "    dict1[i]=list1.count(i)\n",
    "print(dict1)"
   ]
  },
  {
   "cell_type": "code",
   "execution_count": 71,
   "id": "52a83403-5a20-400a-afc9-973714118aa4",
   "metadata": {},
   "outputs": [
    {
     "name": "stdout",
     "output_type": "stream",
     "text": [
      "{'b': 5, 'c': 7, 'd': 5, 'a': 1}\n"
     ]
    }
   ],
   "source": [
    "#32. Write a code that takes two dictionaries as input and merges them into a single dictionary. If there are common keys, the values should be added together. \n",
    "dict1={'a': 1, 'b': 2, 'c': 3}\n",
    "dict2={'b': 3, 'c': 4, 'd': 5}\n",
    "merged_dict=dict2.copy()\n",
    "for key in dict1:\n",
    "    if key in merged_dict:\n",
    "        merged_dict[key] = merged_dict[key] + dict1[key]\n",
    "    else:\n",
    "        merged_dict[key] = dict1[key]\n",
    "print(merged_dict)"
   ]
  },
  {
   "cell_type": "code",
   "execution_count": 69,
   "id": "7130fb08-60ec-4ca0-b04e-11c4ac1d2884",
   "metadata": {},
   "outputs": [
    {
     "name": "stdout",
     "output_type": "stream",
     "text": [
      "4 5 {'a': 3, 'b': 5} None\n",
      "3\n"
     ]
    }
   ],
   "source": [
    "#33. Write a code to access a value in a nested dictionary. The function should take the dictionary and a list of keys as input, and return the corresponding value. If any of the keys do not exist in the dictionary, the function should return None.\n",
    "dict1={'a':4,'b':5,'c':{'a':3,'b':5}}\n",
    "keys=['a','b','c','d']\n",
    "for key in keys:\n",
    "    if key in dict1:\n",
    "        print(dict1[key],end=\" \")        \n",
    "    else:\n",
    "        print(\"None\")\n",
    "print(dict1['c']['a'])"
   ]
  },
  {
   "cell_type": "code",
   "execution_count": 64,
   "id": "4a256082-1bc1-4d59-8d2b-24c5c6e7241a",
   "metadata": {
    "tags": []
   },
   "outputs": [
    {
     "name": "stdin",
     "output_type": "stream",
     "text": [
      "Enter the number of entries you want to add:  3\n",
      "Enter key:  1\n",
      "Enter value:  apple\n",
      "Enter key:  5\n",
      "Enter value:  banana\n",
      "Enter key:  2\n",
      "Enter value:  cherry\n"
     ]
    },
    {
     "name": "stdout",
     "output_type": "stream",
     "text": [
      "Dictionary after adding user input: {'1': 'apple', '5': 'banana', '2': 'cherry'}\n",
      "{'1': 'apple', '2': 'cherry', '5': 'banana'}\n"
     ]
    }
   ],
   "source": [
    "#34. Write a code that takes a dictionary as input and returns a sorted version of it based on the values. You can choose whether to sort in ascending or descending order. \n",
    "\n",
    "user_dict = {}\n",
    "num_entries = int(input(\"Enter the number of entries you want to add: \"))\n",
    " \n",
    "for i in range(num_entries):\n",
    "    key = input(\"Enter key: \")\n",
    "    value = input(\"Enter value: \")\n",
    "    user_dict[key] = value\n",
    "print(\"Dictionary after adding user input:\", user_dict)\n",
    "myKeys = list(user_dict.keys())\n",
    "myKeys.sort()\n",
    "sorted_dict = {i: user_dict[i] for i in myKeys}\n",
    "print(sorted_dict)"
   ]
  },
  {
   "cell_type": "code",
   "execution_count": 62,
   "id": "de666271-a65f-45ea-b693-e89a365497de",
   "metadata": {},
   "outputs": [
    {
     "name": "stdout",
     "output_type": "stream",
     "text": [
      "Original dictionary is : \n",
      "{'A': 67, 'B': 23, 'C': 45, 'E': 12, 'F': 69, 'G': 67, 'H': 23}\n",
      "{67: ['A', 'G'], 23: ['B', 'H'], 45: ['C'], 12: ['E'], 69: ['F']}\n"
     ]
    }
   ],
   "source": [
    "#35. Write a code that inverts a dictionary, swapping keys and values. Ensure that the inverted dictionary correctly handles cases where multiple keys have the same value by storing the keys as a list in the inverted dictionary. \n",
    "old_dict = {'A': 67, 'B': 23, 'C': 45, 'E': 12, 'F': 69, 'G': 67, 'H': 23}\n",
    "print (\"Original dictionary is : \")\n",
    "print(old_dict) \n",
    "new_dict = {}\n",
    "for key, value in old_dict.items():\n",
    "   if value in new_dict:\n",
    "       new_dict[value].append(key)\n",
    "   else:\n",
    "       new_dict[value]=[key]\n",
    "print(new_dict)"
   ]
  },
  {
   "cell_type": "code",
   "execution_count": null,
   "id": "f9cb8a76-cb1e-4230-a59e-f172874cec57",
   "metadata": {},
   "outputs": [],
   "source": []
  }
 ],
 "metadata": {
  "kernelspec": {
   "display_name": "Python 3 (ipykernel)",
   "language": "python",
   "name": "python3"
  },
  "language_info": {
   "codemirror_mode": {
    "name": "ipython",
    "version": 3
   },
   "file_extension": ".py",
   "mimetype": "text/x-python",
   "name": "python",
   "nbconvert_exporter": "python",
   "pygments_lexer": "ipython3",
   "version": "3.10.8"
  }
 },
 "nbformat": 4,
 "nbformat_minor": 5
}
