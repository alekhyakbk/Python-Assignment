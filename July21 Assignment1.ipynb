{
 "cells": [
  {
   "cell_type": "code",
   "execution_count": null,
   "id": "f9d5d405-9d4f-4334-a356-3f170fe6f400",
   "metadata": {},
   "outputs": [],
   "source": []
  },
  {
   "cell_type": "code",
   "execution_count": null,
   "id": "37150b63-8d37-4f5d-a065-baad40bbee6d",
   "metadata": {
    "tags": []
   },
   "outputs": [],
   "source": [
    "# explain the key features of Python that take it a popular choice for programming\n",
    "'''Easy to Code\n",
    "Open Source programming Language & Free Software\n",
    "Object-Oriented Methodology\n",
    "High-Level Language\n",
    "Highly Portable Language\n",
    "Extremely Dynamic\n",
    "Extensive Array of Libraries'''\n"
   ]
  },
  {
   "cell_type": "code",
   "execution_count": null,
   "id": "3b4b9409-8b3a-4adf-8e32-0cdd5138b81e",
   "metadata": {},
   "outputs": [],
   "source": [
    "# Describe the role of predefined keywords in Python and provide examples of how they are used in a program\n",
    "\n",
    "\n",
    "''' Predefined Keywords are used to define the syntax of the coding.\n",
    "This Keywords cannot be used as an identifier, function, or variable name. \n",
    "\n",
    "Uses\n",
    "Value Keywords: True, False, None\n",
    "Operator Keywords: and, or, not, in, is\n",
    "Control Flow Keywords: if, elif, else\n",
    "Iteration Keywords: for, while, break, continue, else\n",
    "Structure Keywords: def, class, with, as, pass, lambda\n",
    "Returning Keywords: return, yield\n",
    "Import Keywords: import, from, as\n",
    "Exception-Handling Keywords: try, except, raise, finally, else, assert\n",
    "Asynchronous Programming Keywords: async, await\n",
    "Variable Handling Keywords: del, global, nonlocal '''"
   ]
  },
  {
   "cell_type": "code",
   "execution_count": null,
   "id": "0a922336-8cf6-41cc-aebf-5ee1a6d57b77",
   "metadata": {},
   "outputs": [],
   "source": []
  },
  {
   "cell_type": "code",
   "execution_count": null,
   "id": "146e320e-448d-4b1a-8486-bef917205496",
   "metadata": {
    "tags": []
   },
   "outputs": [],
   "source": [
    "# Compare and contrast mutable and immutable objects in Python with examples\n",
    "\n",
    "''' Mutable object means that can be change or changeable after creation.\n",
    "    Mutable means the ability to modify or edit a value.\n",
    "     E.g\n",
    "     List\n",
    "     Set\n",
    "    Dictionary'''"
   ]
  },
  {
   "cell_type": "code",
   "execution_count": null,
   "id": "9bf4234c-86b6-4d6b-b9bf-8e5bc17b773a",
   "metadata": {
    "tags": []
   },
   "outputs": [],
   "source": []
  },
  {
   "cell_type": "code",
   "execution_count": 6,
   "id": "414aa5b6-dded-4c8c-8fc2-996cdaf6d19d",
   "metadata": {
    "tags": []
   },
   "outputs": [
    {
     "name": "stdout",
     "output_type": "stream",
     "text": [
      "[1, 2, 3, 4]\n",
      "{1, 2, 3, 4, 5, 6}\n",
      "{1, 2, 3, 4, 5, 6, 7}\n"
     ]
    },
    {
     "data": {
      "text/plain": [
       "{'Dad': 12, 'Mom': 34, 'bro': '56'}"
      ]
     },
     "execution_count": 6,
     "metadata": {},
     "output_type": "execute_result"
    }
   ],
   "source": [
    " #List   \n",
    "list1 = [1, 2, 3, 4]\n",
    "print(list1)\n",
    "list1[0]=5\n",
    "list1    \n",
    "\n",
    "\n",
    "#Set\n",
    "Set1={1,2,3,4,5,6}\n",
    "print(Set1)\n",
    "Set1.add(7)\n",
    "print(Set1)\n",
    "\n",
    "\n",
    "\n",
    "#dictionary\n",
    "dict={\"Dad\":12,\"Mom\":34}\n",
    "dict[\"bro\"] = \"56\"\n",
    "dict"
   ]
  },
  {
   "cell_type": "code",
   "execution_count": null,
   "id": "79184a90-f700-4723-b296-6443ad0d4d11",
   "metadata": {},
   "outputs": [],
   "source": [
    "'''Immutable objects in Python defined as objects that do not change their values and attributes over time.\n",
    "Immutable objects become permanent once created and initialized\n",
    "E.g\n",
    "Str\n",
    "Tuple \n",
    "'''\n",
    "\n",
    "# str\n",
    "a=\"Rithvika\"\n",
    "print(a)\n",
    "\n",
    "# Tuple\n",
    "Point=(2,3)\n",
    "Point"
   ]
  },
  {
   "cell_type": "code",
   "execution_count": null,
   "id": "b79dbb5b-3927-4274-b825-e6f57557d591",
   "metadata": {},
   "outputs": [],
   "source": []
  },
  {
   "cell_type": "code",
   "execution_count": 4,
   "id": "7bd0e326-f277-4bac-86b4-330e47188da4",
   "metadata": {
    "tags": []
   },
   "outputs": [
    {
     "name": "stdout",
     "output_type": "stream",
     "text": [
      "True\n",
      "False\n",
      "True\n",
      "False\n",
      "True\n",
      "True\n",
      "False\n"
     ]
    }
   ],
   "source": [
    "'''Discuss the different types of operators in Python and provide examples of how they are used'''\n",
    "\n",
    "#Equality Operators\n",
    "# is, is not, ==, |=\n",
    "\n",
    "a= \"abc\"\n",
    "b=\"abc\"\n",
    "c=\"cc\"\n",
    "print(a is b)\n",
    "print(a is not b)\n",
    "print(a==b)\n",
    "\n",
    "c=[1,2,3,4]\n",
    "d=[1,2,3,4]\n",
    "print(c is d)\n",
    "print(c is not d)\n",
    "print(c==d)\n",
    "print(c != d)\n",
    "# In list the both c and d has different memory location\n"
   ]
  },
  {
   "cell_type": "code",
   "execution_count": null,
   "id": "46ffd76f-44e7-4803-8f2a-002c5e27f1f0",
   "metadata": {},
   "outputs": [],
   "source": []
  },
  {
   "cell_type": "code",
   "execution_count": 10,
   "id": "7b7b41c7-2281-4dc3-91d9-9ad990b5de1a",
   "metadata": {
    "tags": []
   },
   "outputs": [
    {
     "name": "stdout",
     "output_type": "stream",
     "text": [
      "30\n",
      "10\n",
      "200\n",
      "2.0\n",
      "2\n",
      "0\n"
     ]
    }
   ],
   "source": [
    "#Arthemetic Operator\n",
    "a=10\n",
    "b=20\n",
    "print(a+b)\n",
    "print(b-a)\n",
    "print(a*b)\n",
    "print(b/a)\n",
    "print(b//a)\n",
    "print(b%a)"
   ]
  },
  {
   "cell_type": "code",
   "execution_count": null,
   "id": "8af43795-2ad6-45d6-9ac0-ca7f4f40f6f4",
   "metadata": {},
   "outputs": [],
   "source": []
  },
  {
   "cell_type": "code",
   "execution_count": 11,
   "id": "cd5eea2d-7e4c-402c-8317-24f306bc9ecd",
   "metadata": {
    "tags": []
   },
   "outputs": [
    {
     "name": "stdout",
     "output_type": "stream",
     "text": [
      "True\n",
      "True\n",
      "True\n",
      "True\n"
     ]
    }
   ],
   "source": [
    "#Comparision Operator\n",
    "a=10\n",
    "b=20\n",
    "print(a<b)\n",
    "print(a<=b)\n",
    "print(b>a)\n",
    "print(b>=a)"
   ]
  },
  {
   "cell_type": "code",
   "execution_count": null,
   "id": "263d96fe-d384-4fa5-84f9-ac426528a9c5",
   "metadata": {},
   "outputs": [],
   "source": []
  },
  {
   "cell_type": "code",
   "execution_count": 14,
   "id": "d76753af-cb23-467b-925a-3ff49f2a57ef",
   "metadata": {
    "collapsed": true,
    "jupyter": {
     "outputs_hidden": true
    },
    "tags": []
   },
   "outputs": [
    {
     "name": "stdout",
     "output_type": "stream",
     "text": [
      "OR\n",
      "True\n",
      "True\n",
      "True\n",
      "False\n",
      "ADD\n",
      "True\n",
      "False\n",
      "False\n",
      "False\n",
      "XOR\n",
      "1\n",
      "0\n",
      "0\n",
      "0\n"
     ]
    }
   ],
   "source": [
    "#Logical Operator\n",
    "#OR\n",
    "print(\"OR\")\n",
    "print(True or True)\n",
    "print(True or False)\n",
    "print(False or True)\n",
    "print(False or False)\n",
    "#ADD\n",
    "print(\"ADD\")\n",
    "print(True and True)\n",
    "print(True and False)\n",
    "print(False and True)\n",
    "print(False and False)\n",
    "\n",
    "#XOR\n",
    "print(\"XOR\")\n",
    "print(True * True)\n",
    "print(True * False)\n",
    "print(False * True)\n",
    "print(False * False)"
   ]
  },
  {
   "cell_type": "code",
   "execution_count": null,
   "id": "6888d633-52ae-49a2-a5a0-b25f9087e6d3",
   "metadata": {},
   "outputs": [],
   "source": []
  },
  {
   "cell_type": "code",
   "execution_count": 16,
   "id": "05ed63db-d151-4c9e-86d7-cb589b50967a",
   "metadata": {
    "collapsed": true,
    "jupyter": {
     "outputs_hidden": true
    },
    "tags": []
   },
   "outputs": [
    {
     "name": "stdout",
     "output_type": "stream",
     "text": [
      "-11\n",
      "0\n",
      "30\n",
      "30\n",
      "10485760\n",
      "0\n"
     ]
    }
   ],
   "source": [
    "#Bitwise Operator\n",
    "\n",
    "a=10\n",
    "b=20\n",
    "print(~a)\n",
    "print(a&b)\n",
    "print(a|b)\n",
    "print(a^b)\n",
    "print(a<<b)\n",
    "print(a>>b)"
   ]
  },
  {
   "cell_type": "code",
   "execution_count": null,
   "id": "f7dc91e5-ffbd-4047-b002-24c5ba19b38f",
   "metadata": {},
   "outputs": [],
   "source": []
  },
  {
   "cell_type": "code",
   "execution_count": 1,
   "id": "140088ec-7db4-49fd-b36e-b88cfbb129c9",
   "metadata": {
    "collapsed": true,
    "jupyter": {
     "outputs_hidden": true
    },
    "tags": []
   },
   "outputs": [
    {
     "name": "stdout",
     "output_type": "stream",
     "text": [
      "<class 'int'>\n",
      "<class 'float'>\n",
      "10.0\n",
      "<class 'float'>\n",
      "21.0\n",
      "<class 'float'>\n",
      "5.0\n",
      "<class 'float'>\n",
      "5\n",
      "<class 'int'>\n",
      "5\n",
      "<class 'str'>\n"
     ]
    }
   ],
   "source": [
    "'''Explain the concept of type casting in Python with examples'''\n",
    "\n",
    "\n",
    "#Python Implicit Type Conversion\n",
    "a = 7\n",
    "print(type(a)) \n",
    " \n",
    "# Python automatically converts \n",
    "# b to float \n",
    "b = 3.0\n",
    "print(type(b)) \n",
    " \n",
    "# Python automatically converts \n",
    "# c to float as it is a float addition \n",
    "c = a + b \n",
    "print(c) \n",
    "print(type(c))\n",
    " \n",
    "# Python automatically converts \n",
    "# d to float as it is a float multiplication\n",
    "d = a * b\n",
    "print(d)\n",
    "print(type(d))\n",
    "\n",
    "#Python Explicit Type Conversion\n",
    "\n",
    " \n",
    "# typecast to float\n",
    "a = 5\n",
    "n = float(a)\n",
    "print(n)\n",
    "print(type(n))\n",
    "\n",
    "# typecast to int\n",
    "a = 5.9\n",
    "n = int(a)\n",
    "print(n)\n",
    "print(type(n))\n",
    "\n",
    "\n",
    "# typecast to str\n",
    "a = 5\n",
    "n = str(a)\n",
    "print(n)\n",
    "print(type(n))"
   ]
  },
  {
   "cell_type": "code",
   "execution_count": null,
   "id": "82aff8c7-63d7-40c9-bcdf-80ed3e428aec",
   "metadata": {},
   "outputs": [],
   "source": []
  },
  {
   "cell_type": "code",
   "execution_count": 2,
   "id": "40699b62-d032-4bf9-a5d0-67f4f9ce8f41",
   "metadata": {
    "collapsed": true,
    "jupyter": {
     "outputs_hidden": true
    },
    "tags": []
   },
   "outputs": [
    {
     "name": "stdout",
     "output_type": "stream",
     "text": [
      "The number is positive.\n",
      "The number is positive.\n",
      "Your grade is: B\n"
     ]
    }
   ],
   "source": [
    "'''how conditional statement work in python illustrate with examples'''\n",
    "num = 5\n",
    "if num > 0:\n",
    "    print(\"The number is positive.\")\n",
    "    \n",
    "    \n",
    "num1 = -5\n",
    "if num > 0:\n",
    "    print(\"The number is positive.\")\n",
    "else:\n",
    "    print(\"The number is negative.\")\n",
    "score = 85\n",
    "\n",
    "if score >= 90:\n",
    "    grade = \"A\"\n",
    "elif score >= 80:\n",
    "    grade = \"B\"\n",
    "elif score >= 70:\n",
    "    grade = \"C\"\n",
    "elif score >= 60:\n",
    "    grade = \"D\"\n",
    "else:\n",
    "    grade = \"F\"\n",
    "\n",
    "print(\"Your grade is:\", grade)"
   ]
  },
  {
   "cell_type": "code",
   "execution_count": null,
   "id": "6313b91c-b68d-4596-a916-9ee44b816050",
   "metadata": {
    "tags": []
   },
   "outputs": [],
   "source": []
  },
  {
   "cell_type": "code",
   "execution_count": 3,
   "id": "e4b4a93d-2f26-4c91-815c-281e01b41dfd",
   "metadata": {
    "tags": []
   },
   "outputs": [
    {
     "name": "stdout",
     "output_type": "stream",
     "text": [
      "Hello PWSkills\n",
      "Hello PWSkills\n",
      "0\n",
      "1\n",
      "2\n",
      "3\n",
      "1 \n",
      "2 2 \n",
      "3 3 3 \n",
      "4 4 4 4 \n"
     ]
    }
   ],
   "source": [
    "'''Describe the different types of loops in Python and their use cases with examples'''\n",
    "\n",
    "#While Loop\n",
    "count = 0\n",
    "while (count < 2):\n",
    "    count = count + 1\n",
    "    print(\"Hello PWSkills\")\n",
    "    \n",
    "#For Loop\n",
    "n = 4\n",
    "for i in range(0, n):\n",
    "    print(i)    \n",
    "    \n",
    "#Nested Loop\n",
    "#from __future__ import print_function\n",
    "for i in range(1, 5):\n",
    "    for j in range(i):\n",
    "        print(i, end=' ')\n",
    "    print()"
   ]
  }
 ],
 "metadata": {
  "kernelspec": {
   "display_name": "Python 3 (ipykernel)",
   "language": "python",
   "name": "python3"
  },
  "language_info": {
   "codemirror_mode": {
    "name": "ipython",
    "version": 3
   },
   "file_extension": ".py",
   "mimetype": "text/x-python",
   "name": "python",
   "nbconvert_exporter": "python",
   "pygments_lexer": "ipython3",
   "version": "3.10.8"
  }
 },
 "nbformat": 4,
 "nbformat_minor": 5
}
