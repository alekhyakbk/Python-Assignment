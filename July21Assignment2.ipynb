{
 "cells": [
  {
   "cell_type": "code",
   "execution_count": 4,
   "id": "c7cb61e1-dd29-4274-855a-6396071879b9",
   "metadata": {},
   "outputs": [
    {
     "name": "stdout",
     "output_type": "stream",
     "text": [
      "['banana', 'cherry']\n",
      "Wel\n",
      "(2, 4)\n"
     ]
    }
   ],
   "source": [
    "''' Discuss strong slicing and provide examples'''\n",
    "#Slicing is the extraction of a part of a string, list, or tuple  \n",
    "#systax= Collection[start:end:step]  \n",
    "#list  \n",
    "my_list = ['apple', 'banana', 'cherry', 'date']\n",
    "print(my_list[1:3])\n",
    "\n",
    "# string \n",
    "sentence = \"Welcome to PW Skills Lab\"\n",
    "first_word = sentence[:3]\n",
    "print(first_word)\n",
    "\n",
    "#tuple\n",
    "tpl=(1,2,3,4,5)\n",
    "print(tpl[-4:-1:2])\n"
   ]
  },
  {
   "cell_type": "code",
   "execution_count": null,
   "id": "c80d2245-c228-4631-aef1-bebabe5a00bc",
   "metadata": {},
   "outputs": [],
   "source": [
    "''' Explain the key features of lists in Python\n",
    "\n",
    "Lists are ordered items\n",
    "Lists can contain items of different data types at the same time (including integers, floating point numbers, strings and boolean values).\n",
    "List elements can be accessed by calling index\n",
    "Lists are mutable\n",
    "Lists are dynamic\n",
    "List items can be added, removed or changed after the list is defined.'''"
   ]
  },
  {
   "cell_type": "code",
   "execution_count": 4,
   "id": "426d5ca9-c8c5-4114-8558-4089144be0ea",
   "metadata": {},
   "outputs": [
    {
     "name": "stdout",
     "output_type": "stream",
     "text": [
      "List is: [2, 5, 6.7, 'Hi']\n",
      "List before appending values is:  ['Hello', 'Good Morning', 'PWSkills']\n",
      "List after appending values is:  ['Hello', 'Good Morning', 'PWSkills', 'Team']\n",
      "List before appending values is:  ['Hello', 'Good Morning', 'PWSkills']\n",
      "List after appending values is:  ['Hello', 'Good Morning', 'PWSkills', 'Members']\n",
      "List before modifying values is:  ['Hello', 'Good Morning']\n",
      "List after modifying values is:  ['Hello', 'Gud Mrng']\n",
      "List before removing a element is:  [1, 2, 3, 4, 5, 6, 7]\n",
      "List after removing a element is:  [1, 2, 4, 5, 6, 7]\n"
     ]
    }
   ],
   "source": [
    "''' Describe how to access, modify and delete elements in a list with examples'''\n",
    "#Access /Get THE LIST ITEMS\n",
    "List = [2, 5, 6.7, 'Hi']\n",
    "print(\"List is:\", List)\n",
    "\n",
    "#Add item at  the last of the list\n",
    "List = [\"Hello\", \"Good Morning\" , \"PWSkills\"]\n",
    "print(\"List before appending values is: \", List)\n",
    "List.append(\"Team\")\n",
    "print(\"List after appending values is: \", List)\n",
    "\n",
    "\n",
    "# Add the item at particular index\n",
    "List = [\"Hello\", \"Good Morning\" , \"PWSkills\"]\n",
    "print(\"List before appending values is: \", List)\n",
    "List.insert(3,\"Members\")\n",
    "print(\"List after appending values is: \", List)\n",
    "\n",
    "\n",
    "#Modify the list item \n",
    "List = [\"Hello\", \"Good Morning\"]\n",
    "print(\"List before modifying values is: \", List)\n",
    "List[1]= \"Gud Mrng\" \n",
    "print(\"List after modifying values is: \", List)\n",
    "\n",
    "\n",
    "#delete the item at particular index\n",
    "List = [1, 2, 3, 4, 5, 6, 7]\n",
    "print(\"List before removing a element is: \", List)\n",
    "List.remove(3)\n",
    "print(\"List after removing a element is: \", List)\n",
    "\n"
   ]
  },
  {
   "cell_type": "code",
   "execution_count": 8,
   "id": "6be8ac95-0c25-43b9-9e0a-5f297a83421f",
   "metadata": {},
   "outputs": [
    {
     "name": "stdout",
     "output_type": "stream",
     "text": [
      "Original list  [1, 2, 4, 4, 3, 3, 3, 6, 5]\n",
      "Example to show mutability  [1, 2, 4, 77, 3, 3, 3, 6, 5]\n",
      "(0, 1, 2, 3)\n",
      "1\n",
      "(1, 2, 3)\n"
     ]
    }
   ],
   "source": [
    "''' Compare and contrast tuples and lists with examples'''\n",
    "\n",
    "# Tuples and lists are both sequence data types in Python, but they have distinct characteristics that make them suitable for different purposes. Here’s a comparison and contrast between tuples and lists:\n",
    "\n",
    "# Similarities:\n",
    "    \n",
    "    # 1.Sequence Types: Both tuples and lists are sequences, they maintain the order of elements.\n",
    "    \n",
    "    #2.Indexing and Slicing: Elements in both tuples and lists can be accessed using indexing and slicing.\n",
    "    \n",
    "    #3. Iteration: You can iterate over both tuples and lists using loops or comprehensions.\n",
    "    \n",
    "# Differerance: \n",
    "    \n",
    "    # 1.Mutability:\n",
    "            \n",
    "        #List: Lists are mutable, we can change, add, or remove elements after the list is created.\n",
    "        \n",
    "        #Tuple: Tuples are immutable, once they are created, their elements cannot be changed or modified.\n",
    "         \n",
    "        \n",
    "        \n",
    "List = [1, 2, 4, 4, 3, 3, 3, 6, 5]\n",
    "print(\"Original list \", List)\n",
    "\n",
    "List[3] = 77\n",
    "print(\"Example to show mutability \", List)\n",
    "\n",
    "# create\n",
    "tuple1 = (0, 1, 2, 3)\n",
    "print(tuple1)\n",
    "print(tuple1[1])\n",
    "\n",
    "# delete\n",
    "deleted_tuple = tuple1[1:]\n",
    "print(deleted_tuple)"
   ]
  },
  {
   "cell_type": "code",
   "execution_count": 5,
   "id": "79a1f68d-3fae-454a-9753-3fd5c113331f",
   "metadata": {},
   "outputs": [
    {
     "name": "stdout",
     "output_type": "stream",
     "text": [
      "Employee ID: {112, 114, 115, 116, 118}\n",
      "Vowel Letters: {'u', 'o', 'i', 'e', 'a'}\n",
      "Set of mixed data types: {'Hello', 101, -2, 'Bye'}\n",
      "{8, 2, 4, 6}\n"
     ]
    }
   ],
   "source": [
    "''' Describe the key features of sets and provide examples of their use'''\n",
    "#A set is a collection of unique data, meaning that elements within a set cannot be duplicated.\n",
    "# Example : if we need to store information about Employee IDs, a set is suitable since Employee IDs cannot have duplicates.\n",
    "#A set can have any number of items and they can be of different types (integer, float, tuple, string, etc.). \n",
    "#But a set cannot have mutable elements like lists, sets or dictionaries as its elements.\n",
    "#Sets are unordered.\n",
    "\n",
    "\n",
    "# create a set of integer type\n",
    "employee_id = {112, 114, 116, 118, 115}\n",
    "print('Employee ID:', employee_id)\n",
    "\n",
    "# create a set of string type\n",
    "vowel_letters = {'a', 'e', 'i', 'o', 'u'}\n",
    "print('Vowel Letters:', vowel_letters)\n",
    "\n",
    "# create a set of mixed data types\n",
    "mixed_set = {'Hello', 101, -2, 'Bye'}\n",
    "print('Set of mixed data types:', mixed_set)\n",
    "\n",
    "#duplicate items\n",
    "numbers = {2, 4, 6, 6, 2, 8}\n",
    "print(numbers)"
   ]
  },
  {
   "cell_type": "code",
   "execution_count": null,
   "id": "4fc7fd56-2c3c-458d-a595-4b167ac1cadc",
   "metadata": {},
   "outputs": [],
   "source": [
    "''' Discuss the use cases of tuples and sets in Python programming'''\n",
    "# Tuples and sets are fundamental data structures in Python, with different purposes and have distinct characteristics.\n",
    "\n",
    "# Tuple: \n",
    "       # Immutable Sequence: \n",
    "             \n",
    "              # Tuples are immutable, means once they are create the values cannot be changed. This makes tuples useful for representing fixed collections of items that cannot be modified.\n",
    "              \n",
    "              # Use Case: Storing data that should remain constant throughout the program's execution, such as configuration settings, or database records.\n",
    "      # Function:\n",
    "          \n",
    "            # Tuples are used to return multiple values in a single return statement when used in function. It is usefull when we need to send more than one set  of data.\n",
    "            \n",
    "            # Use Case: Returning multiple values from a function without using more complex data structures.\n",
    "            \n",
    "      # Dictionary Keys:\n",
    "            \n",
    "            # As tuples are immutable they can be used as keys in dictionaries.\n",
    "            \n",
    "            # Use Case: Creating dictionaries where keys need to be fixed combinations of values.\n",
    "            \n",
    "\n",
    "\n",
    "#Set: \n",
    "       \n",
    "      # Unique and Set Operations:\n",
    "           \n",
    "             # Sets in Python are collections of unique elements. They are useful for tasks that involve checking membership, eliminating duplicates, and performing set operations (union, intersection, difference, etc.).\n",
    "                \n",
    "             # Use Case: Removing duplicates from a list, checking for existence of items, or combining data with unique values.\n",
    "            \n",
    "      # 2.Mathematical Set Operations:\n",
    "          \n",
    "             # Sets support operations like union, intersection, difference, and symmetric difference, which are essential in various algorithms and data processing tasks.\n",
    "            \n",
    "             # Use Case: Finding common elements between two lists, determining unique items in a dataset, or combining data from different sources while handling duplicates.\n",
    "                \n",
    "      # 3.Membership Testing and Fast Lookup:\n",
    "    \n",
    "             # Checking if an element is in a set is very fast, which makes sets ideal for scenarios where quick membership testing is required.\n",
    "             \n",
    "             # Use Case: Maintaining a collection of unique items for quick lookup or verification.\n",
    "                \n",
    "      # 4.Mutable and Dynamic:\n",
    "             \n",
    "             #.Unlike tuples, sets are mutable, meaning you can add or remove elements after their creation. This flexibility allows sets to be dynamically updated based on requirements.\n",
    "            \n",
    "             #.Use Case: Tracking changing data over time, such as unique user IDs logged into a system.\n",
    "      \n"
   ]
  },
  {
   "cell_type": "code",
   "execution_count": 13,
   "id": "bf584a3a-0596-4464-af87-82d9c9c576d2",
   "metadata": {},
   "outputs": [
    {
     "name": "stdout",
     "output_type": "stream",
     "text": [
      "{'A': 'Apple', 'B': 'Boy', 'C': 'Cat', 'D': 'Dog'}\n",
      "{'A': 'Application', 'B': 'Boy', 'C': 'Cat', 'D': 'Dog'}\n",
      "{'B': 'Boy', 'C': 'Cat', 'D': 'Dog'}\n"
     ]
    }
   ],
   "source": [
    "''' Describe how to add, modify and delete items in a dictionary with examples'''\n",
    "#Dictionary: (key-value pair) format\n",
    "\n",
    "myDict = {\"A\":\"Apple\", \"B\":\"Boy\", \"C\":\"Cat\"}\n",
    "print(myDict)\n",
    "\n",
    "#Add\n",
    "myDict[\"D\"]=\"Dog\"\n",
    "print(myDict)\n",
    "\n",
    "#Update\n",
    "myDict[\"A\"] = \"Application\"\n",
    "print(myDict)\n",
    "\n",
    "#delete\n",
    "del myDict[\"A\"]\n",
    "print(myDict)"
   ]
  },
  {
   "cell_type": "code",
   "execution_count": 10,
   "id": "ddd2db98-eb3e-4d49-a763-71612a001b9d",
   "metadata": {},
   "outputs": [
    {
     "name": "stdout",
     "output_type": "stream",
     "text": [
      "{'name': 'PWSkills', 'Course': 'AI'}\n",
      "{(0, 0): 'A', (1, 1): 'C'}\n",
      "{42: 'answer', 3.14: 'pi', frozenset({1, 2, 3}): 'immutable set'}\n"
     ]
    }
   ],
   "source": [
    "''' Discuss the importance of dictionary keys being immutable and provide examples'''\n",
    "\n",
    "# Examples of Immutable Dictionary Keys:\n",
    "\n",
    "#1 Strings as Keys: Strings are immutable in Python. Once a string is used as a key in a dictionary, its hash value remains unchanged.\n",
    "my_dict = {'name': 'PWSkills', 'Course': 'AI'}\n",
    "print(my_dict)\n",
    "\n",
    "\n",
    "#2.Tuple as key: Tuples are immutable collections, and used as dictionary keys. As the tuples are immutable the values remains unchanged.\n",
    "ABC = {(0, 0): 'A', (1, 1): 'C'}\n",
    "print(ABC)\n",
    "\n",
    "\n",
    "#3.Numbers and Immutable Objects:Numbers (integers, floats) and frozensets are used in dictionary keys because their values cannot change once they are created.\n",
    "my_dict = {42: 'answer', 3.14: 'pi', frozenset([1, 2, 3]): 'immutable set'}\n",
    "print(my_dict)"
   ]
  },
  {
   "cell_type": "code",
   "execution_count": null,
   "id": "58951275-d6b3-4d74-98c1-6b8f3b9e5282",
   "metadata": {},
   "outputs": [],
   "source": []
  },
  {
   "cell_type": "code",
   "execution_count": null,
   "id": "3b3a578e-5825-45ae-b9d8-5069ced5a081",
   "metadata": {},
   "outputs": [],
   "source": []
  },
  {
   "cell_type": "code",
   "execution_count": null,
   "id": "72fcd911-116e-442f-ba6a-8b8921dc0133",
   "metadata": {},
   "outputs": [],
   "source": []
  },
  {
   "cell_type": "code",
   "execution_count": null,
   "id": "202fe986-f763-4bc3-b7b0-7121f012999f",
   "metadata": {},
   "outputs": [],
   "source": []
  },
  {
   "cell_type": "code",
   "execution_count": null,
   "id": "3317a60b-952c-405e-8ccb-89a910167a13",
   "metadata": {},
   "outputs": [],
   "source": []
  },
  {
   "cell_type": "code",
   "execution_count": null,
   "id": "ab6ac944-058e-4ee0-b6d6-77851f0bd95c",
   "metadata": {},
   "outputs": [],
   "source": []
  },
  {
   "cell_type": "code",
   "execution_count": null,
   "id": "c1764bcd-512b-45ec-aa36-4cc16c957c6d",
   "metadata": {},
   "outputs": [],
   "source": []
  },
  {
   "cell_type": "code",
   "execution_count": null,
   "id": "38bc5b77-3267-443a-af86-3317693492cc",
   "metadata": {},
   "outputs": [],
   "source": []
  }
 ],
 "metadata": {
  "kernelspec": {
   "display_name": "Python 3 (ipykernel)",
   "language": "python",
   "name": "python3"
  },
  "language_info": {
   "codemirror_mode": {
    "name": "ipython",
    "version": 3
   },
   "file_extension": ".py",
   "mimetype": "text/x-python",
   "name": "python",
   "nbconvert_exporter": "python",
   "pygments_lexer": "ipython3",
   "version": "3.10.8"
  }
 },
 "nbformat": 4,
 "nbformat_minor": 5
}
